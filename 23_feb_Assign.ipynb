{
 "cells": [
  {
   "cell_type": "markdown",
   "id": "367123f2-eaeb-4c21-94d9-6b91d99f0fc8",
   "metadata": {},
   "source": [
    "### <b>Question No. 1</b>"
   ]
  },
  {
   "cell_type": "code",
   "execution_count": 7,
   "id": "c3d8e2f4-caee-484a-9386-57143cb8518b",
   "metadata": {},
   "outputs": [
    {
     "name": "stdout",
     "output_type": "stream",
     "text": [
      "0     4\n",
      "1     8\n",
      "2    15\n",
      "3    16\n",
      "4    23\n",
      "5    42\n",
      "dtype: int64\n"
     ]
    }
   ],
   "source": [
    "import pandas as pd\n",
    "\n",
    "data = [4, 8, 15, 16, 23, 42]\n",
    "series = pd.Series(data)\n",
    "print(series)"
   ]
  },
  {
   "cell_type": "markdown",
   "id": "9adaa4ac-d4a3-4b1c-b2b1-4b61f06b7c42",
   "metadata": {},
   "source": [
    "### <b>Question No. 2"
   ]
  },
  {
   "cell_type": "code",
   "execution_count": 8,
   "id": "681ce68b-a8cd-42f4-86e9-0c49c67c787d",
   "metadata": {},
   "outputs": [
    {
     "name": "stdout",
     "output_type": "stream",
     "text": [
      "0     1\n",
      "1     2\n",
      "2     3\n",
      "3     4\n",
      "4     5\n",
      "5     6\n",
      "6     7\n",
      "7     8\n",
      "8     9\n",
      "9    10\n",
      "dtype: int64\n"
     ]
    }
   ],
   "source": [
    "my_list = [1, 2, 3, 4, 5, 6, 7, 8, 9, 10]\n",
    "series = pd.Series(my_list)\n",
    "print(series)"
   ]
  },
  {
   "cell_type": "markdown",
   "id": "64c5cf8b-55ab-4eea-97b3-87d46b83114a",
   "metadata": {},
   "source": [
    "### <b>Question No. 3"
   ]
  },
  {
   "cell_type": "code",
   "execution_count": 10,
   "id": "ed00bf7b-41bf-4fef-be23-d4b58708a536",
   "metadata": {},
   "outputs": [
    {
     "name": "stdout",
     "output_type": "stream",
     "text": [
      "  Name  Age Gender\n",
      " Alice   25 Female\n",
      "   Bob   30   Male\n",
      "Claire   27 Female\n"
     ]
    }
   ],
   "source": [
    "data = {\n",
    "    'Name': ['Alice', 'Bob', 'Claire'],\n",
    "    'Age': [25, 30, 27],\n",
    "    'Gender': ['Female', 'Male', 'Female']\n",
    "}\n",
    "\n",
    "df = pd.DataFrame(data)\n",
    "print(df.to_string(index=False))"
   ]
  },
  {
   "cell_type": "markdown",
   "id": "b83cf481-c324-4334-aa90-46319d1f9741",
   "metadata": {},
   "source": [
    "### <b>Question No. 4"
   ]
  },
  {
   "cell_type": "markdown",
   "id": "72e0a2d1-5938-4d1b-94a1-c908dadd7c2d",
   "metadata": {},
   "source": [
    "In Pandas, a DataFrame is a two-dimensional, size-mutable, and heterogeneous tabular data structure with labeled axes (rows and columns). It is similar to a spreadsheet or SQL table, where data is arranged in rows and columns. Each column in a DataFrame is a Pandas Series.\n",
    "\n",
    "A Pandas Series, on the other hand, is a one-dimensional labeled array capable of holding any data type (integers, strings, floating-point numbers, Python objects, etc.). It is like a single column of data in a DataFrame.\n",
    "\n",
    "Here's an example to illustrate the difference:\n",
    "\n",
    "```python\n",
    "import pandas as pd\n",
    "\n",
    "# Creating a Pandas Series\n",
    "series = pd.Series([1, 2, 3, 4, 5])\n",
    "\n",
    "# Creating a DataFrame\n",
    "data = {\n",
    "    'A': [1, 2, 3, 4, 5],\n",
    "    'B': ['a', 'b', 'c', 'd', 'e']\n",
    "}\n",
    "df = pd.DataFrame(data)\n",
    "\n",
    "print(\"Pandas Series:\")\n",
    "print(series)\n",
    "print(\"\\nDataFrame:\")\n",
    "print(df)\n",
    "```\n",
    "\n",
    "Output:\n",
    "```\n",
    "Pandas Series:\n",
    "0    1\n",
    "1    2\n",
    "2    3\n",
    "3    4\n",
    "4    5\n",
    "dtype: int64\n",
    "\n",
    "DataFrame:\n",
    "   A  B\n",
    "0  1  a\n",
    "1  2  b\n",
    "2  3  c\n",
    "3  4  d\n",
    "4  5  e\n",
    "```\n",
    "\n",
    "In this example, `series` is a Pandas Series containing integers, while `df` is a DataFrame containing two columns, 'A' (integers) and 'B' (strings). Each column in the DataFrame is a Pandas Series."
   ]
  },
  {
   "cell_type": "markdown",
   "id": "b96bd76a-053b-4174-ac3a-bf4284c62504",
   "metadata": {},
   "source": [
    "### <b>Question No. 5"
   ]
  },
  {
   "cell_type": "markdown",
   "id": "44781ffe-6193-4097-9fef-0623151a3851",
   "metadata": {
    "scrolled": true
   },
   "source": [
    "There are several common functions and methods you can use to manipulate data in a Pandas DataFrame. Some of the most commonly used ones include:\n",
    "\n",
    "1. **`head()` and `tail()`**: These functions allow you to view the first or last few rows of the DataFrame, respectively. They are useful for quickly inspecting the data.\n",
    "\n",
    "2. **`info()`**: This method provides a concise summary of the DataFrame, including the data types of each column and the number of non-null values.\n",
    "\n",
    "3. **`describe()`**: This method computes summary statistics for numerical columns, such as mean, median, min, and max.\n",
    "\n",
    "4. **`loc[]` and `iloc[]`**: These are used for selecting rows and columns by label (`loc[]`) or by integer position (`iloc[]`).\n",
    "\n",
    "5. **`drop()`**: This method is used to drop rows or columns from the DataFrame.\n",
    "\n",
    "6. **`fillna()`**: This method is used to fill missing values in the DataFrame with a specified value or method.\n",
    "\n",
    "7. **`groupby()`**: This method is used to group data in the DataFrame based on one or more columns, and then apply a function (like sum, mean, etc.) to each group.\n",
    "\n",
    "8. **`merge()` and `concat()`**: These functions are used to combine multiple DataFrames into a single DataFrame.\n",
    "\n",
    "9. **`pivot_table()`**: This method creates a spreadsheet-style pivot table as a DataFrame.\n",
    "\n",
    "10. **`apply()`**: This method applies a function along an axis of the DataFrame.\n",
    "\n",
    "Example:\n",
    "```python\n",
    "import pandas as pd\n",
    "\n",
    "# Creating a sample DataFrame\n",
    "data = {\n",
    "    'Name': ['Alice', 'Bob', 'Claire', 'David', 'Ella'],\n",
    "    'Age': [25, 30, 27, 35, None],\n",
    "    'Gender': ['Female', 'Male', 'Female', 'Male', 'Female']\n",
    "}\n",
    "df = pd.DataFrame(data)\n",
    "\n",
    "# Filling missing values in 'Age' column with the mean age\n",
    "mean_age = df['Age'].mean()\n",
    "df['Age'] = df['Age'].fillna(mean_age)\n",
    "\n",
    "# Grouping the data by 'Gender' and computing the average age for each gender\n",
    "avg_age_by_gender = df.groupby('Gender')['Age'].mean()\n",
    "\n",
    "print(\"DataFrame:\")\n",
    "print(df)\n",
    "print(\"\\nAverage Age by Gender:\")\n",
    "print(avg_age_by_gender)\n",
    "```\n",
    "\n",
    "In this example, we use the `fillna()` method to fill missing values in the 'Age' column with the mean age. Then, we use the `groupby()` method to group the data by 'Gender' and compute the average age for each gender."
   ]
  },
  {
   "cell_type": "markdown",
   "id": "7a78d929-ef02-478b-9e71-2aa3810a3b0b",
   "metadata": {},
   "source": [
    "### <b>Question No. 6"
   ]
  },
  {
   "cell_type": "markdown",
   "id": "e61befc6-0546-4bd8-8ce8-14c55a9367fe",
   "metadata": {},
   "source": [
    "Series and DataFrame are mutable in nature"
   ]
  },
  {
   "cell_type": "markdown",
   "id": "0b4994d8-b387-41fe-a506-73795a9e77ea",
   "metadata": {},
   "source": [
    "### <b>Question No. 7"
   ]
  },
  {
   "cell_type": "markdown",
   "id": "3eaa2bb1-f631-4af1-afe2-56f603b29563",
   "metadata": {},
   "source": [
    "You can create a DataFrame using multiple Series by passing a dictionary where the keys are the column names and the values are the Series. Here's an example:\n",
    "\n",
    "```python\n",
    "import pandas as pd\n",
    "\n",
    "# Creating two Series\n",
    "name_series = pd.Series(['Alice', 'Bob', 'Claire'])\n",
    "age_series = pd.Series([25, 30, 27])\n",
    "\n",
    "# Creating a DataFrame using the two Series\n",
    "df = pd.DataFrame({'Name': name_series, 'Age': age_series})\n",
    "\n",
    "print(df)\n",
    "```\n",
    "\n",
    "Output:\n",
    "```\n",
    "     Name  Age\n",
    "0   Alice   25\n",
    "1     Bob   30\n",
    "2  Claire   27\n",
    "```\n",
    "\n",
    "In this example, we first create two Series, `name_series` and `age_series`, containing names and ages, respectively. Then, we create a DataFrame `df` by passing a dictionary with column names as keys and the Series as values. The resulting DataFrame has two columns, 'Name' and 'Age', with the data from the respective Series."
   ]
  }
 ],
 "metadata": {
  "kernelspec": {
   "display_name": "Python 3 (ipykernel)",
   "language": "python",
   "name": "python3"
  },
  "language_info": {
   "codemirror_mode": {
    "name": "ipython",
    "version": 3
   },
   "file_extension": ".py",
   "mimetype": "text/x-python",
   "name": "python",
   "nbconvert_exporter": "python",
   "pygments_lexer": "ipython3",
   "version": "3.10.12"
  }
 },
 "nbformat": 4,
 "nbformat_minor": 5
}
